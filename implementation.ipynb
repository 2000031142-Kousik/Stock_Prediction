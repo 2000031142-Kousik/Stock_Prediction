{
 "cells": [
  {
   "cell_type": "code",
   "execution_count": 18,
   "id": "07e72dc6",
   "metadata": {},
   "outputs": [],
   "source": [
    "import pandas as pd\n",
    "import matplotlib.pyplot as plt\n",
    "from pylab import rcParams\n",
    "import numpy as np\n",
    "import seaborn as sns\n",
    "import os\n",
    "\n",
    "from sklearn.ensemble import RandomForestRegressor\n",
    "from sklearn.model_selection import cross_val_score, train_test_split, GridSearchCV\n",
    "from sklearn.feature_selection import RFECV, SelectFromModel, SelectKBest\n",
    "from sklearn.preprocessing import StandardScaler\n",
    "from sklearn import metrics\n",
    "%matplotlib inline"
   ]
  },
  {
   "cell_type": "code",
   "execution_count": 19,
   "id": "a3fb86ad",
   "metadata": {},
   "outputs": [
    {
     "data": {
      "text/html": [
       "<div>\n",
       "<style scoped>\n",
       "    .dataframe tbody tr th:only-of-type {\n",
       "        vertical-align: middle;\n",
       "    }\n",
       "\n",
       "    .dataframe tbody tr th {\n",
       "        vertical-align: top;\n",
       "    }\n",
       "\n",
       "    .dataframe thead th {\n",
       "        text-align: right;\n",
       "    }\n",
       "</style>\n",
       "<table border=\"1\" class=\"dataframe\">\n",
       "  <thead>\n",
       "    <tr style=\"text-align: right;\">\n",
       "      <th></th>\n",
       "      <th>Open</th>\n",
       "      <th>High</th>\n",
       "      <th>Low</th>\n",
       "      <th>Close</th>\n",
       "      <th>Volume</th>\n",
       "      <th>SD20</th>\n",
       "      <th>Upper_Band</th>\n",
       "      <th>Lower_Band</th>\n",
       "      <th>S_Close(t-1)</th>\n",
       "      <th>S_Close(t-2)</th>\n",
       "      <th>...</th>\n",
       "      <th>QQQ_MA10</th>\n",
       "      <th>QQQ_MA20</th>\n",
       "      <th>QQQ_MA50</th>\n",
       "      <th>SnP_Close</th>\n",
       "      <th>SnP(t-1))</th>\n",
       "      <th>SnP(t-5)</th>\n",
       "      <th>DJIA_Close</th>\n",
       "      <th>DJIA(t-1))</th>\n",
       "      <th>DJIA(t-5)</th>\n",
       "      <th>Close_forcast</th>\n",
       "    </tr>\n",
       "    <tr>\n",
       "      <th>Date</th>\n",
       "      <th></th>\n",
       "      <th></th>\n",
       "      <th></th>\n",
       "      <th></th>\n",
       "      <th></th>\n",
       "      <th></th>\n",
       "      <th></th>\n",
       "      <th></th>\n",
       "      <th></th>\n",
       "      <th></th>\n",
       "      <th></th>\n",
       "      <th></th>\n",
       "      <th></th>\n",
       "      <th></th>\n",
       "      <th></th>\n",
       "      <th></th>\n",
       "      <th></th>\n",
       "      <th></th>\n",
       "      <th></th>\n",
       "      <th></th>\n",
       "      <th></th>\n",
       "    </tr>\n",
       "  </thead>\n",
       "  <tbody>\n",
       "    <tr>\n",
       "      <th>2005-10-17</th>\n",
       "      <td>6.66</td>\n",
       "      <td>6.69</td>\n",
       "      <td>6.50</td>\n",
       "      <td>6.60</td>\n",
       "      <td>154208600</td>\n",
       "      <td>0.169237</td>\n",
       "      <td>6.827473</td>\n",
       "      <td>6.150527</td>\n",
       "      <td>6.67</td>\n",
       "      <td>6.63</td>\n",
       "      <td>...</td>\n",
       "      <td>33.692</td>\n",
       "      <td>33.9970</td>\n",
       "      <td>34.2690</td>\n",
       "      <td>1190.10</td>\n",
       "      <td>1186.57</td>\n",
       "      <td>1187.33</td>\n",
       "      <td>10348.10</td>\n",
       "      <td>10287.34</td>\n",
       "      <td>10238.76</td>\n",
       "      <td>6.45</td>\n",
       "    </tr>\n",
       "    <tr>\n",
       "      <th>2005-10-18</th>\n",
       "      <td>6.57</td>\n",
       "      <td>6.66</td>\n",
       "      <td>6.44</td>\n",
       "      <td>6.45</td>\n",
       "      <td>152397000</td>\n",
       "      <td>0.168339</td>\n",
       "      <td>6.819677</td>\n",
       "      <td>6.146323</td>\n",
       "      <td>6.60</td>\n",
       "      <td>6.67</td>\n",
       "      <td>...</td>\n",
       "      <td>33.570</td>\n",
       "      <td>33.9525</td>\n",
       "      <td>34.2466</td>\n",
       "      <td>1178.14</td>\n",
       "      <td>1190.10</td>\n",
       "      <td>1184.87</td>\n",
       "      <td>10285.26</td>\n",
       "      <td>10348.10</td>\n",
       "      <td>10253.17</td>\n",
       "      <td>6.78</td>\n",
       "    </tr>\n",
       "    <tr>\n",
       "      <th>2005-10-19</th>\n",
       "      <td>6.43</td>\n",
       "      <td>6.78</td>\n",
       "      <td>6.32</td>\n",
       "      <td>6.78</td>\n",
       "      <td>252170800</td>\n",
       "      <td>0.180306</td>\n",
       "      <td>6.861112</td>\n",
       "      <td>6.139888</td>\n",
       "      <td>6.45</td>\n",
       "      <td>6.60</td>\n",
       "      <td>...</td>\n",
       "      <td>33.562</td>\n",
       "      <td>33.9600</td>\n",
       "      <td>34.2330</td>\n",
       "      <td>1195.76</td>\n",
       "      <td>1178.14</td>\n",
       "      <td>1177.68</td>\n",
       "      <td>10414.13</td>\n",
       "      <td>10285.26</td>\n",
       "      <td>10216.91</td>\n",
       "      <td>6.93</td>\n",
       "    </tr>\n",
       "    <tr>\n",
       "      <th>2005-10-20</th>\n",
       "      <td>6.72</td>\n",
       "      <td>6.97</td>\n",
       "      <td>6.71</td>\n",
       "      <td>6.93</td>\n",
       "      <td>339440500</td>\n",
       "      <td>0.202674</td>\n",
       "      <td>6.931847</td>\n",
       "      <td>6.121153</td>\n",
       "      <td>6.78</td>\n",
       "      <td>6.45</td>\n",
       "      <td>...</td>\n",
       "      <td>33.567</td>\n",
       "      <td>33.9455</td>\n",
       "      <td>34.2190</td>\n",
       "      <td>1177.80</td>\n",
       "      <td>1195.76</td>\n",
       "      <td>1176.84</td>\n",
       "      <td>10281.10</td>\n",
       "      <td>10414.13</td>\n",
       "      <td>10216.59</td>\n",
       "      <td>6.87</td>\n",
       "    </tr>\n",
       "    <tr>\n",
       "      <th>2005-10-21</th>\n",
       "      <td>7.02</td>\n",
       "      <td>7.03</td>\n",
       "      <td>6.83</td>\n",
       "      <td>6.87</td>\n",
       "      <td>199181500</td>\n",
       "      <td>0.216680</td>\n",
       "      <td>6.974860</td>\n",
       "      <td>6.108140</td>\n",
       "      <td>6.93</td>\n",
       "      <td>6.78</td>\n",
       "      <td>...</td>\n",
       "      <td>33.586</td>\n",
       "      <td>33.9365</td>\n",
       "      <td>34.2034</td>\n",
       "      <td>1179.59</td>\n",
       "      <td>1177.80</td>\n",
       "      <td>1186.57</td>\n",
       "      <td>10215.22</td>\n",
       "      <td>10281.10</td>\n",
       "      <td>10287.34</td>\n",
       "      <td>7.01</td>\n",
       "    </tr>\n",
       "  </tbody>\n",
       "</table>\n",
       "<p>5 rows × 63 columns</p>\n",
       "</div>"
      ],
      "text/plain": [
       "            Open  High   Low  Close     Volume      SD20  Upper_Band  \\\n",
       "Date                                                                   \n",
       "2005-10-17  6.66  6.69  6.50   6.60  154208600  0.169237    6.827473   \n",
       "2005-10-18  6.57  6.66  6.44   6.45  152397000  0.168339    6.819677   \n",
       "2005-10-19  6.43  6.78  6.32   6.78  252170800  0.180306    6.861112   \n",
       "2005-10-20  6.72  6.97  6.71   6.93  339440500  0.202674    6.931847   \n",
       "2005-10-21  7.02  7.03  6.83   6.87  199181500  0.216680    6.974860   \n",
       "\n",
       "            Lower_Band  S_Close(t-1)  S_Close(t-2)  ...  QQQ_MA10  QQQ_MA20  \\\n",
       "Date                                                ...                       \n",
       "2005-10-17    6.150527          6.67          6.63  ...    33.692   33.9970   \n",
       "2005-10-18    6.146323          6.60          6.67  ...    33.570   33.9525   \n",
       "2005-10-19    6.139888          6.45          6.60  ...    33.562   33.9600   \n",
       "2005-10-20    6.121153          6.78          6.45  ...    33.567   33.9455   \n",
       "2005-10-21    6.108140          6.93          6.78  ...    33.586   33.9365   \n",
       "\n",
       "            QQQ_MA50  SnP_Close  SnP(t-1))  SnP(t-5)  DJIA_Close  DJIA(t-1))  \\\n",
       "Date                                                                           \n",
       "2005-10-17   34.2690    1190.10    1186.57   1187.33    10348.10    10287.34   \n",
       "2005-10-18   34.2466    1178.14    1190.10   1184.87    10285.26    10348.10   \n",
       "2005-10-19   34.2330    1195.76    1178.14   1177.68    10414.13    10285.26   \n",
       "2005-10-20   34.2190    1177.80    1195.76   1176.84    10281.10    10414.13   \n",
       "2005-10-21   34.2034    1179.59    1177.80   1186.57    10215.22    10281.10   \n",
       "\n",
       "            DJIA(t-5)  Close_forcast  \n",
       "Date                                  \n",
       "2005-10-17   10238.76           6.45  \n",
       "2005-10-18   10253.17           6.78  \n",
       "2005-10-19   10216.91           6.93  \n",
       "2005-10-20   10216.59           6.87  \n",
       "2005-10-21   10287.34           7.01  \n",
       "\n",
       "[5 rows x 63 columns]"
      ]
     },
     "execution_count": 19,
     "metadata": {},
     "output_type": "execute_result"
    }
   ],
   "source": [
    "Stock = pd.read_csv('AAPL.csv',  index_col=0)\n",
    "df_Stock = Stock\n",
    "df_Stock = df_Stock.rename(columns={'Close(t)':'Close'})\n",
    "df_Stock.head()"
   ]
  },
  {
   "cell_type": "code",
   "execution_count": 41,
   "id": "5700d5fd",
   "metadata": {},
   "outputs": [
    {
     "name": "stdout",
     "output_type": "stream",
     "text": [
      "Average values of each column:\n",
      "Open             8.719999e+01\n",
      "High             8.809323e+01\n",
      "Low              8.633580e+01\n",
      "Close            8.725659e+01\n",
      "Volume           1.143350e+08\n",
      "                     ...     \n",
      "SnP(t-5)         1.799223e+03\n",
      "DJIA_Close       1.611508e+04\n",
      "DJIA(t-1))       1.611037e+04\n",
      "DJIA(t-5)        1.609162e+04\n",
      "Close_forcast    8.737798e+01\n",
      "Length: 62, dtype: float64\n"
     ]
    },
    {
     "name": "stderr",
     "output_type": "stream",
     "text": [
      "C:\\Users\\KOUSIK~1\\AppData\\Local\\Temp/ipykernel_20460/942859822.py:7: FutureWarning: Dropping of nuisance columns in DataFrame reductions (with 'numeric_only=None') is deprecated; in a future version this will raise TypeError.  Select only valid columns before calling the reduction.\n",
      "  column_averages = df_Stock.mean()\n"
     ]
    }
   ],
   "source": [
    "df_Stock = Stock.copy()\n",
    "\n",
    "# Rename the 'Close(t)' column to 'Close'\n",
    "df_Stock = df_Stock.rename(columns={'Close(t)': 'Close'})\n",
    "\n",
    "# Calculate the average value of each column\n",
    "column_averages = df_Stock.mean()\n",
    "\n",
    "# Print the average values\n",
    "print(\"Average values of each column:\")\n",
    "print(column_averages)"
   ]
  },
  {
   "cell_type": "code",
   "execution_count": 21,
   "id": "995558ca",
   "metadata": {},
   "outputs": [
    {
     "data": {
      "text/plain": [
       "(3732, 63)"
      ]
     },
     "execution_count": 21,
     "metadata": {},
     "output_type": "execute_result"
    }
   ],
   "source": [
    "df_Stock.shape"
   ]
  },
  {
   "cell_type": "code",
   "execution_count": 22,
   "id": "c87508f5",
   "metadata": {},
   "outputs": [
    {
     "data": {
      "text/plain": [
       "Index(['Open', 'High', 'Low', 'Close', 'Volume', 'SD20', 'Upper_Band',\n",
       "       'Lower_Band', 'S_Close(t-1)', 'S_Close(t-2)', 'S_Close(t-3)',\n",
       "       'S_Close(t-5)', 'S_Open(t-1)', 'MA5', 'MA10', 'MA20', 'MA50', 'MA200',\n",
       "       'EMA10', 'EMA20', 'EMA50', 'EMA100', 'EMA200', 'MACD', 'MACD_EMA',\n",
       "       'ATR', 'ADX', 'CCI', 'ROC', 'RSI', 'William%R', 'SO%K', 'STD5',\n",
       "       'ForceIndex1', 'ForceIndex20', 'Date_col', 'Day', 'DayofWeek',\n",
       "       'DayofYear', 'Week', 'Is_month_end', 'Is_month_start', 'Is_quarter_end',\n",
       "       'Is_quarter_start', 'Is_year_end', 'Is_year_start', 'Is_leap_year',\n",
       "       'Year', 'Month', 'QQQ_Close', 'QQQ(t-1)', 'QQQ(t-2)', 'QQQ(t-5)',\n",
       "       'QQQ_MA10', 'QQQ_MA20', 'QQQ_MA50', 'SnP_Close', 'SnP(t-1))',\n",
       "       'SnP(t-5)', 'DJIA_Close', 'DJIA(t-1))', 'DJIA(t-5)', 'Close_forcast'],\n",
       "      dtype='object')"
      ]
     },
     "execution_count": 22,
     "metadata": {},
     "output_type": "execute_result"
    }
   ],
   "source": [
    "df_Stock.columns"
   ]
  },
  {
   "cell_type": "code",
   "execution_count": 23,
   "id": "fcd3d8cb",
   "metadata": {},
   "outputs": [
    {
     "data": {
      "image/png": "[encoded data removed]",
      "text/plain": [
       "<Figure size 720x504 with 1 Axes>"
      ]
     },
     "metadata": {
      "needs_background": "light"
     },
     "output_type": "display_data"
    }
   ],
   "source": [
    "df_Stock['Close'].plot(figsize=(10, 7))\n",
    "plt.title(\"Stock Price\", fontsize=17)\n",
    "plt.ylabel('Price', fontsize=14)\n",
    "plt.xlabel('Time', fontsize=14)\n",
    "plt.grid(which=\"major\", color='k', linestyle='-.', linewidth=0.5)\n",
    "plt.show()"
   ]
  },
  {
   "cell_type": "code",
   "execution_count": 24,
   "id": "75b60b22",
   "metadata": {},
   "outputs": [],
   "source": [
    "df_Stock = df_Stock.drop(columns='Date_col')"
   ]
  },
  {
   "cell_type": "code",
   "execution_count": 25,
   "id": "ab4c8c7d",
   "metadata": {},
   "outputs": [],
   "source": [
    "def create_train_test_set(df_Stock):\n",
    "    \n",
    "    features = df_Stock.drop(columns=['Close_forcast'], axis=1)\n",
    "    target = df_Stock['Close_forcast']\n",
    "    \n",
    "\n",
    "    data_len = df_Stock.shape[0]\n",
    "    print('Historical Stock Data length is - ', str(data_len))\n",
    "\n",
    "    train_split = int(data_len * 0.88)\n",
    "    print('Training Set length - ', str(train_split))\n",
    "\n",
    "    val_split = train_split + int(data_len * 0.1)\n",
    "    print('Validation Set length - ', str(int(data_len * 0.1)))\n",
    "\n",
    "    print('Test Set length - ', str(int(data_len * 0.02)))\n",
    "\n",
    "    X_train, X_val, X_test = features[:train_split], features[train_split:val_split], features[val_split:]\n",
    "    Y_train, Y_val, Y_test = target[:train_split], target[train_split:val_split], target[val_split:]\n",
    "    print(X_train.shape, X_val.shape, X_test.shape)\n",
    "    print(Y_train.shape, Y_val.shape, Y_test.shape)\n",
    "    \n",
    "    return X_train, X_val, X_test, Y_train, Y_val, Y_test\n"
   ]
  },
  {
   "cell_type": "code",
   "execution_count": 26,
   "id": "91dd7891",
   "metadata": {},
   "outputs": [
    {
     "name": "stdout",
     "output_type": "stream",
     "text": [
      "Historical Stock Data length is -  3732\n",
      "Training Set length -  3284\n",
      "Validation Set length -  373\n",
      "Test Set length -  74\n",
      "(3284, 61) (373, 61) (75, 61)\n",
      "(3284,) (373,) (75,)\n"
     ]
    }
   ],
   "source": [
    "X_train, X_val, X_test, Y_train, Y_val, Y_test = create_train_test_set(df_Stock)"
   ]
  },
  {
   "cell_type": "code",
   "execution_count": 27,
   "id": "7599b84f",
   "metadata": {},
   "outputs": [
    {
     "data": {
      "text/plain": [
       "LinearRegression()"
      ]
     },
     "execution_count": 27,
     "metadata": {},
     "output_type": "execute_result"
    }
   ],
   "source": [
    "from sklearn.linear_model import LinearRegression\n",
    "lr = LinearRegression()\n",
    "lr.fit(X_train, Y_train)"
   ]
  },
  {
   "cell_type": "code",
   "execution_count": 28,
   "id": "fafae4b7",
   "metadata": {},
   "outputs": [
    {
     "name": "stdout",
     "output_type": "stream",
     "text": [
      "LR Coefficients: \n",
      " [ 8.63721711e-03  1.86051843e-01  1.55487082e-01  1.12263751e+00\n",
      "  1.27286912e-10  6.75229258e-03  1.40229160e-01  1.13219290e-01\n",
      "  4.25627818e-02  8.96348284e-02  1.01914943e-01  5.94183504e-02\n",
      "  7.95194240e-02  7.10399629e-02  2.71424954e-01  1.26724338e-01\n",
      "  8.79333381e-02 -5.87980398e-03 -3.31643358e-01 -3.31643358e-01\n",
      " -3.31643358e-01 -3.31643358e-01 -3.31643358e-01  1.88650012e+00\n",
      " -1.27270716e+00 -1.65042231e-01 -4.36658424e-04  6.89069378e-13\n",
      " -5.07434138e-03  9.02936470e-03  5.78317131e-04  5.78317131e-04\n",
      " -5.57917913e-01 -2.02304395e-10  4.18931834e-11  1.69322438e-02\n",
      "  1.61636703e-02 -1.75659583e-02  6.12165518e-03  2.15420351e-01\n",
      "  1.13979656e-01 -2.41954675e-01  7.63050274e-02  3.73276598e-01\n",
      "  5.55111512e-16 -5.60843990e-02  4.08788803e-02  5.13473865e-01\n",
      " -2.94431531e-02 -8.41335093e-02  5.10939129e-02 -8.14435749e-03\n",
      " -1.95035199e-02  5.67587242e-02  4.39707789e-02  1.29311735e-02\n",
      " -9.99967520e-03 -3.89778363e-03 -1.62174809e-03  1.44436894e-03\n",
      "  2.83455442e-04]\n",
      "LR Intercept: \n",
      " -83.3648635104566\n"
     ]
    }
   ],
   "source": [
    "print('LR Coefficients: \\n', lr.coef_)\n",
    "print('LR Intercept: \\n', lr.intercept_)"
   ]
  },
  {
   "cell_type": "code",
   "execution_count": 29,
   "id": "406334e4",
   "metadata": {},
   "outputs": [
    {
     "name": "stdout",
     "output_type": "stream",
     "text": [
      "Performance (R^2):  0.9994516474373267\n"
     ]
    }
   ],
   "source": [
    "print(\"Performance (R^2): \", lr.score(X_train, Y_train))"
   ]
  },
  {
   "cell_type": "code",
   "execution_count": 30,
   "id": "87db9f6e",
   "metadata": {},
   "outputs": [],
   "source": [
    "def get_mape(y_true, y_pred): \n",
    "    y_true, y_pred = np.array(y_true), np.array(y_pred)\n",
    "    return np.mean(np.abs((y_true - y_pred) / y_true)) * 100"
   ]
  },
  {
   "cell_type": "code",
   "execution_count": 31,
   "id": "3507aa8a",
   "metadata": {},
   "outputs": [],
   "source": [
    "Y_train_pred = lr.predict(X_train)\n",
    "Y_val_pred = lr.predict(X_val)\n",
    "Y_test_pred = lr.predict(X_test)"
   ]
  },
  {
   "cell_type": "code",
   "execution_count": 32,
   "id": "53da582d",
   "metadata": {},
   "outputs": [
    {
     "name": "stdout",
     "output_type": "stream",
     "text": [
      "Training R-squared:  1.0\n",
      "Training Explained Variation:  1.0\n",
      "Training MAPE: 1.45\n",
      "Training Mean Squared Error: 1.48\n",
      "Training RMSE:  1.22\n",
      "Training MAE:  0.76\n",
      " \n",
      "Validation R-squared:  0.99\n",
      "Validation Explained Variation:  0.99\n",
      "Validation MAPE: 1.68\n",
      "Validation Mean Squared Error: 1.48\n",
      "Validation RMSE:  5.91\n",
      "Validation MAE:  3.75\n",
      " \n",
      "Test R-squared:  0.96\n",
      "Test Explained Variation:  0.97\n",
      "Test MAPE: 1.77\n",
      "Test Mean Squared Error: 79.21\n",
      "Test RMSE:  8.9\n",
      "Test MAE:  6.5\n"
     ]
    }
   ],
   "source": [
    "print(\"Training R-squared: \",round(metrics.r2_score(Y_train,Y_train_pred),2))\n",
    "print(\"Training Explained Variation: \",round(metrics.explained_variance_score(Y_train,Y_train_pred),2))\n",
    "print('Training MAPE:', round(get_mape(Y_train,Y_train_pred), 2)) \n",
    "print('Training Mean Squared Error:', round(metrics.mean_squared_error(Y_train,Y_train_pred), 2)) \n",
    "print(\"Training RMSE: \",round(np.sqrt(metrics.mean_squared_error(Y_train,Y_train_pred)),2))\n",
    "print(\"Training MAE: \",round(metrics.mean_absolute_error(Y_train,Y_train_pred),2))\n",
    "\n",
    "print(' ')\n",
    "\n",
    "print(\"Validation R-squared: \",round(metrics.r2_score(Y_val,Y_val_pred),2))\n",
    "print(\"Validation Explained Variation: \",round(metrics.explained_variance_score(Y_val,Y_val_pred),2))\n",
    "print('Validation MAPE:', round(get_mape(Y_val,Y_val_pred), 2)) \n",
    "print('Validation Mean Squared Error:', round(metrics.mean_squared_error(Y_train,Y_train_pred), 2)) \n",
    "print(\"Validation RMSE: \",round(np.sqrt(metrics.mean_squared_error(Y_val,Y_val_pred)),2))\n",
    "print(\"Validation MAE: \",round(metrics.mean_absolute_error(Y_val,Y_val_pred),2))\n",
    "\n",
    "print(' ')\n",
    "\n",
    "print(\"Test R-squared: \",round(metrics.r2_score(Y_test,Y_test_pred),2))\n",
    "print(\"Test Explained Variation: \",round(metrics.explained_variance_score(Y_test,Y_test_pred),2))\n",
    "print('Test MAPE:', round(get_mape(Y_test,Y_test_pred), 2)) \n",
    "print('Test Mean Squared Error:', round(metrics.mean_squared_error(Y_test,Y_test_pred), 2)) \n",
    "print(\"Test RMSE: \",round(np.sqrt(metrics.mean_squared_error(Y_test,Y_test_pred)),2))\n",
    "print(\"Test MAE: \",round(metrics.mean_absolute_error(Y_test,Y_test_pred),2))\n"
   ]
  },
  {
   "cell_type": "code",
   "execution_count": 33,
   "id": "9d4c3d58",
   "metadata": {},
   "outputs": [
    {
     "data": {
      "text/html": [
       "<div>\n",
       "<style scoped>\n",
       "    .dataframe tbody tr th:only-of-type {\n",
       "        vertical-align: middle;\n",
       "    }\n",
       "\n",
       "    .dataframe tbody tr th {\n",
       "        vertical-align: top;\n",
       "    }\n",
       "\n",
       "    .dataframe thead th {\n",
       "        text-align: right;\n",
       "    }\n",
       "</style>\n",
       "<table border=\"1\" class=\"dataframe\">\n",
       "  <thead>\n",
       "    <tr style=\"text-align: right;\">\n",
       "      <th></th>\n",
       "      <th>Date</th>\n",
       "      <th>Actual</th>\n",
       "      <th>Predicted</th>\n",
       "    </tr>\n",
       "  </thead>\n",
       "  <tbody>\n",
       "    <tr>\n",
       "      <th>0</th>\n",
       "      <td>2018-11-01</td>\n",
       "      <td>202.30</td>\n",
       "      <td>216.289778</td>\n",
       "    </tr>\n",
       "    <tr>\n",
       "      <th>1</th>\n",
       "      <td>2018-11-02</td>\n",
       "      <td>196.56</td>\n",
       "      <td>201.470182</td>\n",
       "    </tr>\n",
       "    <tr>\n",
       "      <th>2</th>\n",
       "      <td>2018-11-05</td>\n",
       "      <td>198.68</td>\n",
       "      <td>195.948933</td>\n",
       "    </tr>\n",
       "    <tr>\n",
       "      <th>3</th>\n",
       "      <td>2018-11-06</td>\n",
       "      <td>204.71</td>\n",
       "      <td>199.043601</td>\n",
       "    </tr>\n",
       "    <tr>\n",
       "      <th>4</th>\n",
       "      <td>2018-11-07</td>\n",
       "      <td>204.00</td>\n",
       "      <td>204.193666</td>\n",
       "    </tr>\n",
       "    <tr>\n",
       "      <th>...</th>\n",
       "      <td>...</td>\n",
       "      <td>...</td>\n",
       "      <td>...</td>\n",
       "    </tr>\n",
       "    <tr>\n",
       "      <th>368</th>\n",
       "      <td>2020-04-22</td>\n",
       "      <td>273.79</td>\n",
       "      <td>275.751755</td>\n",
       "    </tr>\n",
       "    <tr>\n",
       "      <th>369</th>\n",
       "      <td>2020-04-23</td>\n",
       "      <td>281.70</td>\n",
       "      <td>274.020243</td>\n",
       "    </tr>\n",
       "    <tr>\n",
       "      <th>370</th>\n",
       "      <td>2020-04-24</td>\n",
       "      <td>281.90</td>\n",
       "      <td>280.710044</td>\n",
       "    </tr>\n",
       "    <tr>\n",
       "      <th>371</th>\n",
       "      <td>2020-04-27</td>\n",
       "      <td>277.33</td>\n",
       "      <td>280.543603</td>\n",
       "    </tr>\n",
       "    <tr>\n",
       "      <th>372</th>\n",
       "      <td>2020-04-28</td>\n",
       "      <td>286.44</td>\n",
       "      <td>276.562125</td>\n",
       "    </tr>\n",
       "  </tbody>\n",
       "</table>\n",
       "<p>373 rows × 3 columns</p>\n",
       "</div>"
      ],
      "text/plain": [
       "          Date  Actual   Predicted\n",
       "0   2018-11-01  202.30  216.289778\n",
       "1   2018-11-02  196.56  201.470182\n",
       "2   2018-11-05  198.68  195.948933\n",
       "3   2018-11-06  204.71  199.043601\n",
       "4   2018-11-07  204.00  204.193666\n",
       "..         ...     ...         ...\n",
       "368 2020-04-22  273.79  275.751755\n",
       "369 2020-04-23  281.70  274.020243\n",
       "370 2020-04-24  281.90  280.710044\n",
       "371 2020-04-27  277.33  280.543603\n",
       "372 2020-04-28  286.44  276.562125\n",
       "\n",
       "[373 rows x 3 columns]"
      ]
     },
     "execution_count": 33,
     "metadata": {},
     "output_type": "execute_result"
    }
   ],
   "source": [
    "df_pred = pd.DataFrame(Y_val.values, columns=['Actual'], index=Y_val.index)\n",
    "df_pred['Predicted'] = Y_val_pred\n",
    "df_pred = df_pred.reset_index()\n",
    "df_pred.loc[:, 'Date'] = pd.to_datetime(df_pred['Date'],format='%Y-%m-%d')\n",
    "df_pred"
   ]
  },
  {
   "cell_type": "code",
   "execution_count": 34,
   "id": "522a0e18",
   "metadata": {},
   "outputs": [
    {
     "data": {
      "text/plain": [
       "<AxesSubplot:>"
      ]
     },
     "execution_count": 34,
     "metadata": {},
     "output_type": "execute_result"
    },
    {
     "data": {
      "image/png": "[encoded data removed]",
      "text/plain": [
       "<Figure size 1080x720 with 1 Axes>"
      ]
     },
     "metadata": {
      "needs_background": "light"
     },
     "output_type": "display_data"
    }
   ],
   "source": [
    "df_pred[['Actual', 'Predicted']].plot(figsize=(15, 10))"
   ]
  },
  {
   "cell_type": "code",
   "execution_count": 35,
   "id": "176d1cbb",
   "metadata": {
    "scrolled": false
   },
   "outputs": [
    {
     "data": {
      "image/png": "[encoded data removed]",
      "text/plain": [
       "<Figure size 1080x720 with 1 Axes>"
      ]
     },
     "metadata": {
      "needs_background": "light"
     },
     "output_type": "display_data"
    }
   ],
   "source": [
    "df_pred = pd.DataFrame({'Sample': ['A', 'B', 'C'], 'Actual': [30, 50, 70], 'Predicted': [40, 55, 60]})\n",
    "\n",
    "mean_actual = np.mean(df_pred['Actual'])\n",
    "mean_predicted = np.mean(df_pred['Predicted'])\n",
    "\n",
    "ax = df_pred.plot(kind='bar', x='Sample', y=['Actual', 'Predicted'], figsize=(15, 10))\n",
    "\n",
    "ax.axhline(y=mean_actual, color='r', linestyle='--', label='Mean Actual')\n",
    "ax.axhline(y=mean_predicted, color='g', linestyle='--', label='Mean Predicted')\n",
    "plt.legend()\n",
    "plt.xlabel('Sample')\n",
    "plt.ylabel('Magnitude')\n",
    "plt.title('Comparison of Actual and Predicted Values')\n",
    "plt.show()"
   ]
  },
  {
   "cell_type": "code",
   "execution_count": 36,
   "id": "92109179",
   "metadata": {},
   "outputs": [],
   "source": [
    "#This is a Python code for stock price prediction using linear regression. The code reads stock data from a CSV file, creates a train-test split, fits a linear regression model, and evaluates its performance on training, validation, and test sets. The evaluation metrics used are R-squared, explained variation, mean absolute percentage error (MAPE), mean squared error (MSE), root mean squared error (RMSE), and mean absolute error (MAE). The code also plots the actual and predicted values for the validation set.\n",
    "\n",
    "#The code starts with importing the required libraries such as pandas, matplotlib, numpy, seaborn, os, and scikit-learn. Then, it reads the stock data from a CSV file into a pandas dataframe and performs some data preprocessing such as renaming a column and dropping another column. Next, it defines a function named create_train_test_set that creates a train-test split of the data using a chronological split. The function takes a dataframe as input and returns six dataframes, namely X_train, X_val, X_test, Y_train, Y_val, and Y_test.\n",
    "\n",
    "#The code then fits a linear regression model on the training set using scikit-learn's LinearRegression class and prints the coefficients, intercept, and performance (R-squared) of the model. It also defines a function named get_mape that computes the mean absolute percentage error (MAPE) between the actual and predicted values.\n",
    "\n",
    "#Next, the code predicts the target values (Close_forcast) for the training, validation, and test sets using the trained model and evaluates its performance on each set using various metrics. Finally, the code plots the actual and predicted values for the validation set using pandas and matplotlib."
   ]
  },
  {
   "cell_type": "code",
   "execution_count": null,
   "id": "17a07797",
   "metadata": {},
   "outputs": [],
   "source": []
  },
  {
   "cell_type": "code",
   "execution_count": null,
   "id": "1423bab7",
   "metadata": {},
   "outputs": [],
   "source": []
  }
 ],
 "metadata": {
  "kernelspec": {
   "display_name": "Python 3 (ipykernel)",
   "language": "python",
   "name": "python3"
  },
  "language_info": {
   "codemirror_mode": {
    "name": "ipython",
    "version": 3
   },
   "file_extension": ".py",
   "mimetype": "text/x-python",
   "name": "python",
   "nbconvert_exporter": "python",
   "pygments_lexer": "ipython3",
   "version": "3.9.7"
  }
 },
 "nbformat": 4,
 "nbformat_minor": 5
}
